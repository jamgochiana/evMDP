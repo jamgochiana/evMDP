{
 "cells": [
  {
   "cell_type": "markdown",
   "metadata": {},
   "source": [
    "# Electric Vehicle Charge Scheduling MDP"
   ]
  },
  {
   "cell_type": "markdown",
   "metadata": {},
   "source": [
    "### Dependencies\n",
    "\n",
    "You will need to install POMDPs and POMDPToolbox locally before being able to run this notebook. This can be done by running the following in your local Julia 1.0 REPL: \n",
    "    - Pkg.add(\"POMDPs\")\n",
    "    - Pkg.add(\"POMDPToolbox\")"
   ]
  },
  {
   "cell_type": "code",
   "execution_count": null,
   "metadata": {},
   "outputs": [],
   "source": [
    "using POMDPs, POMDPToolbox"
   ]
  },
  {
   "cell_type": "markdown",
   "metadata": {},
   "source": [
    "### State Structure\n",
    "Define state structure / make initial constructor"
   ]
  },
  {
   "cell_type": "code",
   "execution_count": null,
   "metadata": {},
   "outputs": [],
   "source": [
    "mutable struct evState\n",
    "    p::Vector{Bool} # array of whether cars are present\n",
    "    c::Vector{Int64} # array of charge in each car\n",
    "    renew::Int64 # renewable energy level\n",
    "    t::Int64 # time\n",
    "    done::Bool # are we in a terminal state\n",
    "end\n",
    "\n",
    "# initial state constructor\n",
    "evState(p,c,renew::Int64, renew::Int64, t::Int64) = evState(p,c,renew,t,false)"
   ]
  },
  {
   "cell_type": "markdown",
   "metadata": {},
   "source": [
    "### MDP Structure\n",
    "Define MDP structure with everything you would need / make initial constructor"
   ]
  },
  {
   "cell_type": "code",
   "execution_count": null,
   "metadata": {},
   "outputs": [],
   "source": [
    "struct evMDP <: MDP{evState,Vector{Bool}} \n",
    "    n::Int64 # number of cars\n",
    "    T::Int64 # number of timesteps\n",
    "    renew_levels::Int64 # number of renewable mixture levels, 0:renew_levels\n",
    "    charge_levels::Int64 # number of charge levels, 0:charge_levels\n",
    "    λ::Float64 # terminal reward weighting\n",
    "end\n",
    "\n",
    "# we use key worded arguments so we can change any of the values we pass in \n",
    "function evMDP(;n::Int64 = 3 # number of cars\n",
    "                T::Int64 = 6 # number of timesteps\n",
    "                renew_levels::Int64 = 4, # number of renewable mixture levels, 0:renew_levels\n",
    "                charge_levels::Int64 = 4, # number of charge levels, 0:charge_levels\n",
    "                λ::Float64 = 100) #terminal reward weighting\n",
    "    return evMDP(n, T, renew_levels, charge_levels, λ)\n",
    "end\n"
   ]
  },
  {
   "cell_type": "markdown",
   "metadata": {},
   "source": [
    "### States\n",
    "Define all possible states"
   ]
  },
  {
   "cell_type": "code",
   "execution_count": null,
   "metadata": {
    "scrolled": true
   },
   "outputs": [],
   "source": [
    "# convert number to an array of numbers using requested base system, array length\n",
    "function num2array(number,base,array_length)\n",
    "    base==2 ? finalarray = zeros(Bool, array_length) : finalarray = zeros(Int64, array_length)\n",
    "    idx=1\n",
    "    while number > 0\n",
    "        finalarray[idx] = rem(number,base)\n",
    "        number = div(number,base)\n",
    "        idx+=1\n",
    "    end\n",
    "    return finalarray\n",
    "end\n",
    "\n",
    "function POMDPs.states(mdp::evMDP)\n",
    "    s = GridWorldState[] # initialize an array of GridWorldStates\n",
    "    \n",
    "    # add every possible state. This includes every possible combination of present/charge array\n",
    "    \n",
    "    for iP = 0:(2^mdp.n-1)\n",
    "        present = num2array(iP,2,mdp.n)\n",
    "        \n",
    "        for iC = 0:((mdp.charge_levels+1)^mdp.n-1)\n",
    "            charge = num2array(iC,(mdp.charge_levels+1),mdp.n)\n",
    "            \n",
    "            for rl=0:mdp.renew_levels, t=1:mdp.T\n",
    "            \n",
    "                # if in final time, make sure the done flag is set on\n",
    "                t==mdp.T ? push!(s,evState(present, charge, rl, t, true)) : push!(s,evState(present, charge, rl, t)) \n",
    "            end\n",
    "        end\n",
    "    end\n",
    "    return s\n",
    "end"
   ]
  },
  {
   "cell_type": "markdown",
   "metadata": {},
   "source": [
    "### Actions\n",
    "Define all possible action vectors"
   ]
  },
  {
   "cell_type": "code",
   "execution_count": null,
   "metadata": {},
   "outputs": [],
   "source": [
    "function POMDPs.actions(mdp::evMDP)\n",
    "    # initialize empty action space a\n",
    "    a = []    \n",
    "    # populate with all combinations of actions, ex [true, false, true, true]\n",
    "    for iA=0:(2^mdp.n-1)\n",
    "        push!(a,num2array(iA,2,mdp.n))\n",
    "    end\n",
    "    return a\n",
    "end\n",
    "    "
   ]
  },
  {
   "cell_type": "markdown",
   "metadata": {},
   "source": [
    "### Reward Function\n",
    "Define the reward function"
   ]
  },
  {
   "cell_type": "code",
   "execution_count": null,
   "metadata": {},
   "outputs": [],
   "source": [
    "function POMDPs.reward(mdp::evMDP, state::evState, action::Vector{Bool}, statep::evState)\n",
    "    return r\n",
    "end"
   ]
  },
  {
   "cell_type": "markdown",
   "metadata": {},
   "source": [
    "### Transition Function\n",
    "Define the next-state transition probabilities (this is the hard one)"
   ]
  },
  {
   "cell_type": "code",
   "execution_count": null,
   "metadata": {},
   "outputs": [],
   "source": [
    "function POMDPs.transition(mdp::evMDP, state::evState, action::Vector{Bool})\n",
    "end"
   ]
  },
  {
   "cell_type": "markdown",
   "metadata": {},
   "source": [
    "### Miscellaneous Functions\n",
    "Define other functions that POMDPs.jl needs"
   ]
  },
  {
   "cell_type": "code",
   "execution_count": null,
   "metadata": {},
   "outputs": [],
   "source": [
    "POMDPs.n_states(mdp::evMDP) = 2^mdp.n*(mdp.charge_levels+1)^mdp.n*(mdp.renew_levels+1)*mdp.T\n",
    "POMDPs.n_actions(mdp::evMDP) = 2^mdp.n\n",
    "POMDPs.discount(mdp::evMDP) = 1\n",
    "POMDPs.isterminal(mdp::evMDP, s::evState) = s.done"
   ]
  },
  {
   "cell_type": "code",
   "execution_count": null,
   "metadata": {},
   "outputs": [],
   "source": [
    "# define state and action indexing\n",
    "function POMDPs.state_index(mdp::evMDP, state::evState)\n",
    "end\n",
    "function POMDPs.action_index(mdp::evMDP, act::Vector{Bool})\n",
    "end"
   ]
  },
  {
   "cell_type": "markdown",
   "metadata": {},
   "source": [
    "### Implement Solvers / Simulators"
   ]
  },
  {
   "cell_type": "code",
   "execution_count": null,
   "metadata": {},
   "outputs": [],
   "source": []
  }
 ],
 "metadata": {
  "kernelspec": {
   "display_name": "Julia 1.0.0",
   "language": "julia",
   "name": "julia-1.0"
  },
  "language_info": {
   "file_extension": ".jl",
   "mimetype": "application/julia",
   "name": "julia",
   "version": "1.0.0"
  }
 },
 "nbformat": 4,
 "nbformat_minor": 2
}
