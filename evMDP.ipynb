{
 "cells": [
  {
   "cell_type": "markdown",
   "metadata": {},
   "source": [
    "# Electric Vehicle Charge Scheduling MDP"
   ]
  },
  {
   "cell_type": "markdown",
   "metadata": {},
   "source": [
    "### Dependencies\n",
    "\n",
    "You will need to install POMDPs and POMDPToolbox locally before being able to run this notebook. This can be done by running the following in your local Julia 1.0 REPL: \n",
    "    - Pkg.add(\"POMDPs\")\n",
    "    - Pkg.add(\"POMDPToolbox\")"
   ]
  },
  {
   "cell_type": "code",
   "execution_count": 1,
   "metadata": {},
   "outputs": [
    {
     "name": "stderr",
     "output_type": "stream",
     "text": [
      "┌ Warning: Importing POMDPToolbox. As of Julia 0.7 POMDPToolbox has been discontinued. Please use POMDPModelTools, POMDPPolicies, BeliefUpdaters, and/or POMDPSimulators instead.\n",
      "└ @ POMDPToolbox C:\\Users\\Emily\\.julia\\packages\\POMDPToolbox\\OdZy7\\src\\POMDPToolbox.jl:4\n"
     ]
    }
   ],
   "source": [
    "using POMDPs, POMDPToolbox"
   ]
  },
  {
   "cell_type": "markdown",
   "metadata": {},
   "source": [
    "### State Structure\n",
    "Define state structure / make initial constructor"
   ]
  },
  {
   "cell_type": "code",
   "execution_count": 2,
   "metadata": {},
   "outputs": [
    {
     "ename": "ErrorException",
     "evalue": "syntax: function argument names not unique",
     "output_type": "error",
     "traceback": [
      "syntax: function argument names not unique",
      ""
     ]
    }
   ],
   "source": [
    "mutable struct evState\n",
    "    p::Vector{Bool} # array of whether cars are present\n",
    "    c::Vector{Int64} # array of charge in each car\n",
    "    renew::Int64 # renewable energy level\n",
    "    t::Int64 # time\n",
    "    done::Bool # are we in a terminal state\n",
    "end\n",
    "\n",
    "# initial state constructor\n",
    "evState(p,c,renew::Int64, renew::Int64, t::Int64) = evState(p,c,renew,t,false)"
   ]
  },
  {
   "cell_type": "markdown",
   "metadata": {},
   "source": [
    "### MDP Structure\n",
    "Define MDP structure with everything you would need / make initial constructor"
   ]
  },
  {
   "cell_type": "code",
   "execution_count": 3,
   "metadata": {},
   "outputs": [
    {
     "ename": "LoadError",
     "evalue": "syntax: missing comma or ) in argument list",
     "output_type": "error",
     "traceback": [
      "syntax: missing comma or ) in argument list",
      ""
     ]
    }
   ],
   "source": [
    "struct evMDP <: MDP{evState,Vector{Bool}} \n",
    "    n::Int64 # number of cars\n",
    "    T::Int64 # number of timesteps\n",
    "    renew_levels::Int64 # number of renewable mixture levels, 0:renew_levels\n",
    "    charge_levels::Int64 # number of charge levels, 0:charge_levels\n",
    "    λ::Float64 # terminal reward weighting\n",
    "end\n",
    "\n",
    "# we use key worded arguments so we can change any of the values we pass in \n",
    "function evMDP(;n::Int64 = 3 # number of cars\n",
    "                T::Int64 = 6 # number of timesteps\n",
    "                renew_levels::Int64 = 4, # number of renewable mixture levels, 0:renew_levels\n",
    "                charge_levels::Int64 = 4, # number of charge levels, 0:charge_levels\n",
    "                λ::Float64 = 100) #terminal reward weighting\n",
    "    return evMDP(n, T, renew_levels, charge_levels, λ)\n",
    "end\n"
   ]
  },
  {
   "cell_type": "markdown",
   "metadata": {},
   "source": [
    "### States\n",
    "Define all possible states"
   ]
  },
  {
   "cell_type": "code",
   "execution_count": 4,
   "metadata": {
    "scrolled": true
   },
   "outputs": [],
   "source": [
    "# convert number to an array of numbers using requested base system, array length\n",
    "function num2array(number,base,array_length)\n",
    "    base==2 ? finalarray = zeros(Bool, array_length) : finalarray = zeros(Int64, array_length)\n",
    "    idx=1\n",
    "    while number > 0\n",
    "        finalarray[idx] = rem(number,base)\n",
    "        number = div(number,base)\n",
    "        idx+=1\n",
    "    end\n",
    "    return finalarray\n",
    "end\n",
    "\n",
    "function POMDPs.states(mdp::evMDP)\n",
    "    s = GridWorldState[] # initialize an array of GridWorldStates\n",
    "    \n",
    "    # add every possible state. This includes every possible combination of present/charge array\n",
    "    \n",
    "    for iP = 0:(2^mdp.n-1)\n",
    "        present = num2array(iP,2,mdp.n)\n",
    "        \n",
    "        for iC = 0:((mdp.charge_levels+1)^mdp.n-1)\n",
    "            charge = num2array(iC,(mdp.charge_levels+1),mdp.n)\n",
    "            \n",
    "            for rl=0:mdp.renew_levels, t=1:mdp.T\n",
    "            \n",
    "                # if in final time, make sure the done flag is set on\n",
    "                t==mdp.T ? push!(s,evState(present, charge, rl, t, true)) : push!(s,evState(present, charge, rl, t)) \n",
    "            end\n",
    "        end\n",
    "    end\n",
    "    return s\n",
    "end"
   ]
  },
  {
   "cell_type": "markdown",
   "metadata": {},
   "source": [
    "### Actions\n",
    "Define all possible action vectors"
   ]
  },
  {
   "cell_type": "code",
   "execution_count": 5,
   "metadata": {},
   "outputs": [],
   "source": [
    "function POMDPs.actions(mdp::evMDP)\n",
    "    # initialize empty action space a\n",
    "    a = []    \n",
    "    # populate with all combinations of actions, ex [true, false, true, true]\n",
    "    for iA=0:(2^mdp.n-1)\n",
    "        push!(a,num2array(iA,2,mdp.n))\n",
    "    end\n",
    "    return a\n",
    "end\n",
    "    "
   ]
  },
  {
   "cell_type": "markdown",
   "metadata": {},
   "source": [
    "### Reward Function\n",
    "Define the reward function"
   ]
  },
  {
   "cell_type": "code",
   "execution_count": 6,
   "metadata": {},
   "outputs": [],
   "source": [
    "function POMDPs.reward(mdp::evMDP, state::evState, action::Vector{Bool}, statep::evState)\n",
    "    r = mdp.lambda*mdp.charge_levels \n",
    "    if state.done\n",
    "        max_c = mdp.charge_levels\n",
    "        for i in 1:length(state.p)\n",
    "            if state.p[i] == true\n",
    "                r -= exp((max_c-state.c[i])/max_c)\n",
    "            end\n",
    "        end\n",
    "    end\n",
    "    return r\n",
    "end"
   ]
  },
  {
   "cell_type": "markdown",
   "metadata": {},
   "source": [
    "### Transition Function\n",
    "Define the next-state transition probabilities (this is the hard one)"
   ]
  },
  {
   "cell_type": "code",
   "execution_count": 7,
   "metadata": {},
   "outputs": [],
   "source": [
    "function POMDPs.transition(mdp::evMDP, state::evState, action::Vector{Bool})\n",
    "end"
   ]
  },
  {
   "cell_type": "markdown",
   "metadata": {},
   "source": [
    "### Miscellaneous Functions\n",
    "Define other functions that POMDPs.jl needs"
   ]
  },
  {
   "cell_type": "code",
   "execution_count": 8,
   "metadata": {},
   "outputs": [],
   "source": [
    "POMDPs.n_states(mdp::evMDP) = 2^mdp.n*(mdp.charge_levels+1)^mdp.n*(mdp.renew_levels+1)*mdp.T\n",
    "POMDPs.n_actions(mdp::evMDP) = 2^mdp.n\n",
    "POMDPs.discount(mdp::evMDP) = 1\n",
    "POMDPs.isterminal(mdp::evMDP, s::evState) = s.done"
   ]
  },
  {
   "cell_type": "code",
   "execution_count": 26,
   "metadata": {},
   "outputs": [],
   "source": [
    "# define state and action indexing\n",
    "function indVal(base, a)\n",
    "    ind = 1\n",
    "    for i in 1:length(a)\n",
    "        ind += a[i]*base^(i-1)\n",
    "    end\n",
    "    return ind\n",
    "end    \n",
    "\n",
    "function POMDPs.stateindex(mdp::evMDP, state::evState)\n",
    "    indP = indVal(2,state.p)\n",
    "    indC = indVal(mdp.charge_levels,state.c)\n",
    "    indR = state.renew + 1\n",
    "    indT = state.t\n",
    "    maxP = 2^(mdp.n)\n",
    "    maxC = (mdp.charge_levels + 1)^(mdp.n)\n",
    "    maxR = mdp.renew_levels + 1\n",
    "    maxT = mdp.T\n",
    "    sInd = indP + (maxP*(indC-1)) + (maxC*maxP*(indR-1)) + (maxR*maxC*maxP*(indT-1))\n",
    "    return sInd\n",
    "end\n",
    "\n",
    "function POMDPs.actionindex(mdp::evMDP, act::Vector{Bool})\n",
    "    return indVal(2,act)\n",
    "end"
   ]
  },
  {
   "cell_type": "code",
   "execution_count": 30,
   "metadata": {},
   "outputs": [
    {
     "name": "stdout",
     "output_type": "stream",
     "text": [
      "2\n",
      "2\n",
      "1\n",
      "1\n",
      "10\n"
     ]
    }
   ],
   "source": [
    "mdp1 = evMDP(3,2,5,5,0.1)\n",
    "state1 = evState([1,0,0],[1,0,0],0,1,false)\n",
    "\n",
    "println(POMDPs.stateindex(mdp1,state1))\n"
   ]
  },
  {
   "cell_type": "markdown",
   "metadata": {},
   "source": [
    "### Implement Solvers / Simulators"
   ]
  },
  {
   "cell_type": "code",
   "execution_count": null,
   "metadata": {},
   "outputs": [],
   "source": [
    "# first let's load the value iteration module\n",
    "using DiscreteValueIteration\n",
    "\n",
    "# initialize the problem\n",
    "mdp = evMDP()\n",
    "\n",
    "# initialize the solver\n",
    "# max_iterations: maximum number of iterations value iteration runs for (default is 100)\n",
    "# belres: the value of Bellman residual used in the solver (defualt is 1e-3)\n",
    "solver = ValueIterationSolver(max_iterations=100, belres=1e-3)\n",
    "\n",
    "# initialize the policy by passing in your problem\n",
    "policy = ValueIterationPolicy(mdp) \n",
    "\n",
    "# solve for an optimal policy\n",
    "# if verbose=false, the text output will be supressed (false by default)\n",
    "solve(solver, mdp, policy, verbose=true);"
   ]
  },
  {
   "cell_type": "markdown",
   "metadata": {},
   "source": [
    "### Simulations"
   ]
  },
  {
   "cell_type": "code",
   "execution_count": null,
   "metadata": {},
   "outputs": [],
   "source": [
    "mdp = evMDP()\n",
    "mdp.tprob=1.0\n",
    "sim(mdp, evState(4,1), max_steps=10) do s\n",
    "    println(\"state is: $s\")\n",
    "    a = :right\n",
    "    println(\"moving $a\")\n",
    "    return a\n",
    "end;"
   ]
  }
 ],
 "metadata": {
  "kernelspec": {
   "display_name": "Julia 1.0.0",
   "language": "julia",
   "name": "julia-1.0"
  },
  "language_info": {
   "file_extension": ".jl",
   "mimetype": "application/julia",
   "name": "julia",
   "version": "1.0.0"
  }
 },
 "nbformat": 4,
 "nbformat_minor": 2
}
