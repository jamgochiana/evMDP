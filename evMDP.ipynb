{
 "cells": [
  {
   "cell_type": "markdown",
   "metadata": {},
   "source": [
    "# Electric Vehicle Charge Scheduling MDP"
   ]
  },
  {
   "cell_type": "markdown",
   "metadata": {},
   "source": [
    "### Dependencies\n",
    "\n",
    "You will need to install POMDPs and POMDPToolbox locally before being able to run this notebook. This can be done by running the following in your local Julia 1.0 REPL: \n",
    "    - Pkg.add(\"POMDPs\")\n",
    "    - Pkg.add(\"POMDPModelTools\")\n",
    "    - Pkg.add(\"POMDPSimulators\")"
   ]
  },
  {
   "cell_type": "code",
   "execution_count": 1,
   "metadata": {},
   "outputs": [
    {
     "name": "stderr",
     "output_type": "stream",
     "text": [
      "┌ Info: Precompiling Plots [91a5bcdd-55d7-5caf-9e0b-520d859cae80]\n",
      "└ @ Base loading.jl:1186\n"
     ]
    }
   ],
   "source": [
    "using POMDPs, POMDPModelTools, POMDPSimulators, Random, Plots"
   ]
  },
  {
   "cell_type": "markdown",
   "metadata": {},
   "source": [
    "### State Structure\n",
    "Define state structure / make initial constructor"
   ]
  },
  {
   "cell_type": "code",
   "execution_count": 2,
   "metadata": {},
   "outputs": [
    {
     "data": {
      "text/plain": [
       "evState"
      ]
     },
     "execution_count": 2,
     "metadata": {},
     "output_type": "execute_result"
    }
   ],
   "source": [
    "mutable struct evState\n",
    "    p::Vector{Bool} # array of whether cars are present\n",
    "    c::Vector{Int64} # array of charge in each car\n",
    "    renew::Int64 # renewable energy level\n",
    "    t::Int64 # time\n",
    "    done::Bool # are we in a terminal state\n",
    "end\n",
    "\n",
    "# initial state constructor\n",
    "evState(p,c,renew::Int64,t::Int64) = evState(p,c,renew,t,false)"
   ]
  },
  {
   "cell_type": "markdown",
   "metadata": {},
   "source": [
    "### MDP Structure\n",
    "Define MDP structure with everything you would need / make initial constructor"
   ]
  },
  {
   "cell_type": "code",
   "execution_count": 3,
   "metadata": {},
   "outputs": [
    {
     "data": {
      "text/plain": [
       "evMDP"
      ]
     },
     "execution_count": 3,
     "metadata": {},
     "output_type": "execute_result"
    }
   ],
   "source": [
    "struct evMDP <: MDP{evState,Vector{Bool}} \n",
    "    n::Int64 # number of cars\n",
    "    T::Int64 # number of timesteps\n",
    "    renew_levels::Int64 # number of renewable mixture levels, 0:renew_levels\n",
    "    charge_levels::Int64 # number of charge levels, 0:charge_levels\n",
    "    λ::Float64 # terminal reward weighting\n",
    "end\n",
    "\n",
    "# we use key worded arguments so we can change any of the values we pass in \n",
    "function evMDP(;n::Int64 = 3, # number of cars\n",
    "                T::Int64 = 6, # number of timesteps\n",
    "                renew_levels::Int64 = 3, # number of renewable mixture levels, 0:renew_levels\n",
    "                charge_levels::Int64 = 3, # number of charge levels, 0:charge_levels\n",
    "                λ::Float64 = 100.0) #terminal reward weighting\n",
    "    return evMDP(n, T, renew_levels, charge_levels, λ)\n",
    "end\n"
   ]
  },
  {
   "cell_type": "markdown",
   "metadata": {},
   "source": [
    "### States\n",
    "Define all possible states"
   ]
  },
  {
   "cell_type": "code",
   "execution_count": 4,
   "metadata": {
    "scrolled": true
   },
   "outputs": [],
   "source": [
    "# convert number to an array of numbers using requested base system, array length\n",
    "function num2array(number,base,array_length)\n",
    "    base==2 ? finalarray = zeros(Bool, array_length) : finalarray = zeros(Int64, array_length)\n",
    "    idx=1\n",
    "    while number > 0\n",
    "        finalarray[idx] = rem(number,base)\n",
    "        number = div(number,base)\n",
    "        idx+=1\n",
    "    end\n",
    "    return finalarray\n",
    "end\n",
    "\n",
    "function POMDPs.states(mdp::evMDP)\n",
    "    s = [] # initialize an array of GridWorldStates\n",
    "    \n",
    "    # add every possible state. This includes every possible combination of present/charge array\n",
    "    \n",
    "    for iP = 0:(2^mdp.n-1)\n",
    "        present = num2array(iP,2,mdp.n)\n",
    "        \n",
    "        for iC = 0:((mdp.charge_levels+1)^mdp.n-1)\n",
    "            charge = num2array(iC,(mdp.charge_levels+1),mdp.n)\n",
    "            \n",
    "            for rl=0:mdp.renew_levels, t=1:mdp.T\n",
    "            \n",
    "                # if in final time, make sure the done flag is set on\n",
    "                t==mdp.T ? push!(s,evState(present, charge, rl, t, true)) : push!(s,evState(present, charge, rl, t)) \n",
    "            end\n",
    "        end\n",
    "    end\n",
    "    return s\n",
    "end\n"
   ]
  },
  {
   "cell_type": "code",
   "execution_count": 5,
   "metadata": {},
   "outputs": [],
   "source": [
    "POMDPs.initialstate(mdp::evMDP, rng::AbstractRNG) = evState(zeros(Bool,mdp.n),zeros(Int64,mdp.n), mdp.renew_levels, 1)"
   ]
  },
  {
   "cell_type": "markdown",
   "metadata": {},
   "source": [
    "### Actions\n",
    "Define all possible action vectors"
   ]
  },
  {
   "cell_type": "code",
   "execution_count": 6,
   "metadata": {},
   "outputs": [],
   "source": [
    "function POMDPs.actions(mdp::evMDP)\n",
    "    # initialize empty action space a\n",
    "    a = []    \n",
    "    # populate with all combinations of actions, ex [true, false, true, true]\n",
    "    for iA=0:(2^mdp.n-1)\n",
    "        push!(a,num2array(iA,2,mdp.n))\n",
    "    end\n",
    "    return a\n",
    "end\n",
    "    "
   ]
  },
  {
   "cell_type": "markdown",
   "metadata": {},
   "source": [
    "### Reward Function\n",
    "Define the reward function"
   ]
  },
  {
   "cell_type": "code",
   "execution_count": 7,
   "metadata": {},
   "outputs": [],
   "source": [
    "function POMDPs.reward(mdp::evMDP, state::evState, action::Vector{Bool}, statep::evState)\n",
    "    r = mdp.λ*state.renew \n",
    "    if state.done\n",
    "        max_c = mdp.charge_levels\n",
    "        for i in 1:length(state.p)\n",
    "            if state.p[i] == true\n",
    "                r -= exp((max_c-state.c[i])/max_c)\n",
    "            end\n",
    "        end\n",
    "    end\n",
    "    return r\n",
    "end"
   ]
  },
  {
   "cell_type": "markdown",
   "metadata": {},
   "source": [
    "### Transition Function\n",
    "Define the next-state transition probabilities (this is the hard one)"
   ]
  },
  {
   "cell_type": "code",
   "execution_count": 8,
   "metadata": {},
   "outputs": [
    {
     "data": {
      "text/plain": [
       "carAppearStates (generic function with 1 method)"
      ]
     },
     "execution_count": 8,
     "metadata": {},
     "output_type": "execute_result"
    }
   ],
   "source": [
    "\n",
    "# chance of a car appearing in any slot at time t given total timescale T\n",
    "carAppearProb(t,T) = 1/(1+exp(-20(t-2)/T))\n",
    "\n",
    "# function takes a state to generate different charge probabilities for, the previous presence array, the mdp, \n",
    "# and the probability of transitioning to \n",
    "function carAppearStates(baseState,prevP,mdp,probability)\n",
    "    \n",
    "    newCarIdxs = findall(baseState.p .!= prevP)\n",
    "    \n",
    "    # distribute probabilities uniformly over possible charge states\n",
    "    probs = zeros(Int64,mdp.charge_levels^length(newCarIdxs)) .+ probability/(mdp.charge_levels^length(newCarIdxs))\n",
    "    \n",
    "    chargeCombs = [baseState.c[:]]\n",
    "    for ind in newCarIdxs\n",
    "        chargeCombsPrev = chargeCombs\n",
    "        \n",
    "        chargeCombs = []\n",
    "        for charge in chargeCombsPrev, level in 0:(mdp.charge_levels-1)\n",
    "            addition = charge[:]\n",
    "            addition[ind] = level\n",
    "            push!(chargeCombs,addition)\n",
    "        end\n",
    "    end\n",
    "    \n",
    "    state_vec = evState[]\n",
    "    for charge in chargeCombs\n",
    "        push!(state_vec,evState(baseState.p, charge, baseState.renew, baseState.t, baseState.done))\n",
    "    end\n",
    "    return state_vec, probs\n",
    "end\n",
    "    \n",
    "    "
   ]
  },
  {
   "cell_type": "code",
   "execution_count": 9,
   "metadata": {},
   "outputs": [
    {
     "name": "stdout",
     "output_type": "stream",
     "text": [
      "evState[evState(Bool[true, true, true, true], [3, 0, 4, 0], 0, 1, false), evState(Bool[true, true, true, true], [3, 0, 4, 1], 0, 1, false), evState(Bool[true, true, true, true], [3, 0, 4, 2], 0, 1, false), evState(Bool[true, true, true, true], [3, 0, 4, 3], 0, 1, false), evState(Bool[true, true, true, true], [3, 1, 4, 0], 0, 1, false), evState(Bool[true, true, true, true], [3, 1, 4, 1], 0, 1, false), evState(Bool[true, true, true, true], [3, 1, 4, 2], 0, 1, false), evState(Bool[true, true, true, true], [3, 1, 4, 3], 0, 1, false), evState(Bool[true, true, true, true], [3, 2, 4, 0], 0, 1, false), evState(Bool[true, true, true, true], [3, 2, 4, 1], 0, 1, false), evState(Bool[true, true, true, true], [3, 2, 4, 2], 0, 1, false), evState(Bool[true, true, true, true], [3, 2, 4, 3], 0, 1, false), evState(Bool[true, true, true, true], [3, 3, 4, 0], 0, 1, false), evState(Bool[true, true, true, true], [3, 3, 4, 1], 0, 1, false), evState(Bool[true, true, true, true], [3, 3, 4, 2], 0, 1, false), evState(Bool[true, true, true, true], [3, 3, 4, 3], 0, 1, false)]\n",
      "[0.0625, 0.0625, 0.0625, 0.0625, 0.0625, 0.0625, 0.0625, 0.0625, 0.0625, 0.0625, 0.0625, 0.0625, 0.0625, 0.0625, 0.0625, 0.0625]\n"
     ]
    }
   ],
   "source": [
    "prevP = [true, false, true, false]\n",
    "\n",
    "newP = [true, true, true, true]\n",
    "newC = [3, 4, 4, 4]\n",
    "baseState = evState(newP,newC,0,1,false)\n",
    "test_mdp = evMDP(4,4,4,4,0.1)\n",
    "\n",
    "states,probs = carAppearStates(baseState,prevP,test_mdp,1.0)\n",
    "println(states)\n",
    "println(probs)"
   ]
  },
  {
   "cell_type": "code",
   "execution_count": 10,
   "metadata": {},
   "outputs": [
    {
     "data": {
      "text/plain": [
       "4-element Array{Int64,1}:\n",
       " 1\n",
       " 0\n",
       " 4\n",
       " 4"
      ]
     },
     "execution_count": 10,
     "metadata": {},
     "output_type": "execute_result"
    }
   ],
   "source": [
    "min.(4,[1, 0, 5, 4] + [true, false, false, true].*[false, true, true, true])"
   ]
  },
  {
   "cell_type": "code",
   "execution_count": 11,
   "metadata": {},
   "outputs": [
    {
     "data": {
      "text/plain": [
       "getNextPs (generic function with 1 method)"
      ]
     },
     "execution_count": 11,
     "metadata": {},
     "output_type": "execute_result"
    }
   ],
   "source": [
    "function getNextPs(p,car_prob)\n",
    "    wherenocars = findall(iszero,p)\n",
    "    p_next = [p]\n",
    "    for ind in wherenocars\n",
    "        p_next_prev = p_next\n",
    "        p_next = []\n",
    "        for p in p_next_prev\n",
    "            push!(p_next,p)\n",
    "            state_new = p[:]\n",
    "            state_new[ind] = true\n",
    "            push!(p_next,state_new)        \n",
    "        end\n",
    "    end\n",
    "    \n",
    "    \n",
    "    # calculate probability\n",
    "    num_initial_spaces = length(wherenocars)\n",
    "    num_new_cars = []\n",
    "    for p_check in p_next\n",
    "        n_new_cars = count(p_check .!= p)\n",
    "        push!(num_new_cars,n_new_cars)\n",
    "    end\n",
    "    probs = [(car_prob^n)*(1-car_prob)^(num_initial_spaces-n) for n in num_new_cars]\n",
    "    \n",
    "    return p_next, probs\n",
    "    \n",
    "end"
   ]
  },
  {
   "cell_type": "code",
   "execution_count": 12,
   "metadata": {},
   "outputs": [
    {
     "name": "stdout",
     "output_type": "stream",
     "text": [
      "Any[Bool[true, false, false], Bool[true, false, true], Bool[true, true, false], Bool[true, true, true]]\n",
      "[0.0625, 0.1875, 0.1875, 0.5625]\n"
     ]
    }
   ],
   "source": [
    "p, pr = getNextPs([true, false, false],.75)\n",
    "println(p)\n",
    "println(pr)"
   ]
  },
  {
   "cell_type": "code",
   "execution_count": 13,
   "metadata": {},
   "outputs": [],
   "source": [
    "calc_renew_delt(t) = 0\n",
    "\n",
    "function POMDPs.transition(mdp::evMDP, state::evState, action::Vector{Bool})\n",
    "    \n",
    "    # deterministic transitions\n",
    "    \n",
    "    # time and teriminality\n",
    "    t_next = state.t + 1\n",
    "    t_next == mdp.T ? done_bool = true : done_bool = false\n",
    "    \n",
    "    # energy level\n",
    "    delta_charge = 0.25/4 # Amount of energy lost per charge per car as a fraction of total charge level\n",
    "    renew_next = round.(Int8,state.renew + (calc_renew_delt(t) - length(findall(action))*delta_charge)*mdp.renew_levels)\n",
    "    \n",
    "    # charge in each car\n",
    "    # c_next = round.(Int8, state.c + action*delta_charge*mdp.renew_levels)\n",
    "    c_next = min.(mdp.charge_levels, state.c + action.*state.p) # increment by one if charge action taken when car present, and cap at max charge\n",
    "    \n",
    "    # probabilistic transitions\n",
    "    \n",
    "    # car presence\n",
    "    appear_prob = carAppearProb(t_next,mdp.T)\n",
    "    p_next, probs = getNextPs(state.p[:],appear_prob)\n",
    "    \n",
    "    # build next state array\n",
    "    next_states = [evState(p_new,c_next,renew_next,t_next,done_bool) for p_new in p_next]\n",
    "    # updated_states, updated_probs = [carAppearStates(baseState,state.p,mdp,probability) for baseState,probability in zip(next_states,probs)] ]\n",
    "    new_states = []\n",
    "    new_probs = []\n",
    "    for i in 1:length(next_states)\n",
    "        updated_state, updated_prob = carAppearStates(next_states[i],state.p,mdp,probs[i])\n",
    "        push!(new_states,updated_state...)\n",
    "        push!(new_probs,updated_prob...)\n",
    "    end\n",
    "    # new_states, new_probs = [s[:],p[:] for s,p in zip(updated_states,updated_probs)]\n",
    "    # add section to incorporate different possible start charges\n",
    "    return SparseCat(new_states,new_probs)\n",
    "end"
   ]
  },
  {
   "cell_type": "code",
   "execution_count": 14,
   "metadata": {},
   "outputs": [
    {
     "name": "stdout",
     "output_type": "stream",
     "text": [
      "[1, 2]"
     ]
    }
   ],
   "source": [
    "j = [true, true, false, false]\n",
    "print(findall(j))"
   ]
  },
  {
   "cell_type": "code",
   "execution_count": 15,
   "metadata": {},
   "outputs": [
    {
     "data": {
      "text/plain": [
       "SparseCat{Array{Any,1},Array{Any,1}}(Any[evState(Bool[true, false, true, false], [4, 0, 4, 0], -1, 2, false), evState(Bool[true, false, true, true], [4, 0, 4, 0], -1, 2, false), evState(Bool[true, false, true, true], [4, 0, 4, 1], -1, 2, false), evState(Bool[true, false, true, true], [4, 0, 4, 2], -1, 2, false), evState(Bool[true, false, true, true], [4, 0, 4, 3], -1, 2, false), evState(Bool[true, true, true, false], [4, 0, 4, 0], -1, 2, false), evState(Bool[true, true, true, false], [4, 1, 4, 0], -1, 2, false), evState(Bool[true, true, true, false], [4, 2, 4, 0], -1, 2, false), evState(Bool[true, true, true, false], [4, 3, 4, 0], -1, 2, false), evState(Bool[true, true, true, true], [4, 0, 4, 0], -1, 2, false)  …  evState(Bool[true, true, true, true], [4, 1, 4, 2], -1, 2, false), evState(Bool[true, true, true, true], [4, 1, 4, 3], -1, 2, false), evState(Bool[true, true, true, true], [4, 2, 4, 0], -1, 2, false), evState(Bool[true, true, true, true], [4, 2, 4, 1], -1, 2, false), evState(Bool[true, true, true, true], [4, 2, 4, 2], -1, 2, false), evState(Bool[true, true, true, true], [4, 2, 4, 3], -1, 2, false), evState(Bool[true, true, true, true], [4, 3, 4, 0], -1, 2, false), evState(Bool[true, true, true, true], [4, 3, 4, 1], -1, 2, false), evState(Bool[true, true, true, true], [4, 3, 4, 2], -1, 2, false), evState(Bool[true, true, true, true], [4, 3, 4, 3], -1, 2, false)], Any[0.25, 0.0625, 0.0625, 0.0625, 0.0625, 0.0625, 0.0625, 0.0625, 0.0625, 0.015625  …  0.015625, 0.015625, 0.015625, 0.015625, 0.015625, 0.015625, 0.015625, 0.015625, 0.015625, 0.015625])"
      ]
     },
     "execution_count": 15,
     "metadata": {},
     "output_type": "execute_result"
    }
   ],
   "source": [
    "test_mdp = evMDP(4,4,4,4,0.1)\n",
    "\n",
    "\n",
    "P = [true, false, true, false]\n",
    "action = [true, true, true, true]\n",
    "C = [3, 0, 4, 0]\n",
    "baseState = evState(P,C,0,1,false)\n",
    "\n",
    "POMDPs.transition(test_mdp,baseState,action)\n"
   ]
  },
  {
   "cell_type": "markdown",
   "metadata": {},
   "source": [
    "### Miscellaneous Functions\n",
    "Define other functions that POMDPs.jl needs"
   ]
  },
  {
   "cell_type": "code",
   "execution_count": 16,
   "metadata": {},
   "outputs": [],
   "source": [
    "POMDPs.n_states(mdp::evMDP) = 2^mdp.n*(mdp.charge_levels+1)^mdp.n*(mdp.renew_levels+1)*mdp.T\n",
    "POMDPs.n_actions(mdp::evMDP) = 2^mdp.n\n",
    "POMDPs.discount(mdp::evMDP) = 1.\n",
    "POMDPs.isterminal(mdp::evMDP, s::evState) = s.done"
   ]
  },
  {
   "cell_type": "code",
   "execution_count": 17,
   "metadata": {},
   "outputs": [],
   "source": [
    "# define state and action indexing\n",
    "function indVal(base, a)\n",
    "    ind = 1\n",
    "    for i in 1:length(a)\n",
    "        ind += a[i]*base^(i-1)\n",
    "    end\n",
    "    return ind\n",
    "end    \n",
    "\n",
    "function POMDPs.stateindex(mdp::evMDP, state::evState)\n",
    "    indP = indVal(2,state.p)\n",
    "    indC = indVal(1+mdp.charge_levels,state.c)\n",
    "    indR = state.renew + 1\n",
    "    indT = state.t\n",
    "    maxP = 2^(mdp.n)\n",
    "    maxC = (mdp.charge_levels + 1)^(mdp.n)\n",
    "    maxR = mdp.renew_levels + 1\n",
    "    maxT = mdp.T\n",
    "    sInd = indP + (maxP*(indC-1)) + (maxC*maxP*(indR-1)) + (maxR*maxC*maxP*(indT-1))\n",
    "    return sInd\n",
    "end\n",
    "\n",
    "function POMDPs.actionindex(mdp::evMDP, act::Vector{Bool})\n",
    "    return indVal(2,act)\n",
    "end"
   ]
  },
  {
   "cell_type": "code",
   "execution_count": 18,
   "metadata": {},
   "outputs": [
    {
     "name": "stdout",
     "output_type": "stream",
     "text": [
      "-2047\n"
     ]
    }
   ],
   "source": [
    "mdp1 = evMDP()\n",
    "state1 = evState([false,false,false],[0,0,0],0,0,true)\n",
    "# (;n::Int64 = 3, # number of cars\n",
    "#                T::Int64 = 6, # number of timesteps\n",
    "#                renew_levels::Int64 = 3, # number of renewable mixture levels, 0:renew_levels\n",
    "#                charge_levels::Int64 = 3, # number of charge levels, 0:charge_levels\n",
    "#                 λ::Float64 = 100.0) #terminal reward weighting\n",
    "println(POMDPs.stateindex(mdp1,state1))\n"
   ]
  },
  {
   "cell_type": "code",
   "execution_count": 19,
   "metadata": {
    "scrolled": false
   },
   "outputs": [
    {
     "name": "stdout",
     "output_type": "stream",
     "text": [
      "12288\n"
     ]
    }
   ],
   "source": [
    "mdp = evMDP()\n",
    "st = POMDPs.states(mdp)\n",
    "println(length(st))\n",
    "for i in 1:length(st)\n",
    "    idx = stateindex(mdp,st[i])\n",
    "    if idx < 1\n",
    "        println(idx)\n",
    "        println(st[i])\n",
    "     end\n",
    "end\n",
    "\n",
    "j = ordered_states(mdp)\n",
    "for (istate,s) in enumerate(j) \n",
    "    # println(istate)\n",
    "end"
   ]
  },
  {
   "cell_type": "markdown",
   "metadata": {},
   "source": [
    "### Implement Solvers / Simulators"
   ]
  },
  {
   "cell_type": "code",
   "execution_count": 20,
   "metadata": {
    "scrolled": true
   },
   "outputs": [
    {
     "name": "stdout",
     "output_type": "stream",
     "text": [
      "INFO: POMDPs.jl requirements for "
     ]
    },
    {
     "name": "stderr",
     "output_type": "stream",
     "text": [
      "WARNING: using DiscreteValueIteration.action in module Main conflicts with an existing identifier.\n"
     ]
    },
    {
     "name": "stdout",
     "output_type": "stream",
     "text": [
      "\u001b[34msolve(::ValueIterationSolver, ::Union{MDP,POMDP})\u001b[39m and dependencies. ([✔] = implemented correctly; [X] = missing)\n",
      "\n",
      "For \u001b[34msolve(::ValueIterationSolver, ::Union{MDP,POMDP})\u001b[39m:\n",
      "\u001b[32m  [✔] discount(::evMDP)\u001b[39m\n",
      "\u001b[32m  [✔] n_states(::evMDP)\u001b[39m\n",
      "\u001b[32m  [✔] n_actions(::evMDP)\u001b[39m\n",
      "\u001b[32m  [✔] transition(::evMDP, ::evState, ::Array)\u001b[39m\n",
      "\u001b[32m  [✔] reward(::evMDP, ::evState, ::Array, ::evState)\u001b[39m\n",
      "\u001b[32m  [✔] stateindex(::evMDP, ::evState)\u001b[39m\n",
      "\u001b[32m  [✔] actionindex(::evMDP, ::Array)\u001b[39m\n",
      "\u001b[32m  [✔] actions(::evMDP, ::evState)\u001b[39m\n",
      "\u001b[32m  [✔] support(::SparseCat)\u001b[39m\n",
      "\u001b[32m  [✔] pdf(::SparseCat, ::evState)\u001b[39m\n",
      "For \u001b[34mordered_states(::Union{MDP,POMDP})\u001b[39m (in solve(::ValueIterationSolver, ::Union{MDP,POMDP})):\n",
      "\u001b[32m  [✔] states(::evMDP)\u001b[39m\n",
      "For \u001b[34mordered_actions(::Union{MDP,POMDP})\u001b[39m (in solve(::ValueIterationSolver, ::Union{MDP,POMDP})):\n",
      "\u001b[32m  [✔] actions(::evMDP)\u001b[39m\n",
      "[Iteration 1   ] residual:        300 | iteration runtime:   2906.674 ms, (      2.91 s total)\n",
      "[Iteration 2   ] residual:        300 | iteration runtime:   2988.789 ms, (       5.9 s total)\n",
      "[Iteration 3   ] residual:        300 | iteration runtime:   3107.857 ms, (         9 s total)\n",
      "[Iteration 4   ] residual:        300 | iteration runtime:   2194.835 ms, (      11.2 s total)\n",
      "[Iteration 5   ] residual:        300 | iteration runtime:   2039.132 ms, (      13.2 s total)\n",
      "[Iteration 6   ] residual:        300 | iteration runtime:   2037.538 ms, (      15.3 s total)\n",
      "[Iteration 7   ] residual:          0 | iteration runtime:   2027.569 ms, (      17.3 s total)\n"
     ]
    }
   ],
   "source": [
    "# first let's load the value iteration module\n",
    "using DiscreteValueIteration\n",
    "\n",
    "# initialize the problem\n",
    "mdp = evMDP()\n",
    "\n",
    "@requirements_info ValueIterationSolver() mdp\n",
    "\n",
    "\n",
    "solver = ValueIterationSolver(max_iterations=100, belres=1e-6, verbose=true) # initializes the Solver type\n",
    "policy = solve(solver, mdp) # runs value iterations\n",
    "\n",
    "# initialize the policy by passing in your problem\n",
    "# policy = ValueIterationPolicy(mdp) \n",
    "\n",
    "# solve for an optimal policy\n",
    "# if verbose=false, the text output will be supressed (false by default)\n",
    "# solve(solver, mdp, policy, verbose=true);"
   ]
  },
  {
   "cell_type": "markdown",
   "metadata": {},
   "source": [
    "### Simulations"
   ]
  },
  {
   "cell_type": "code",
   "execution_count": 21,
   "metadata": {},
   "outputs": [
    {
     "name": "stdout",
     "output_type": "stream",
     "text": [
      "evState(Bool[false, false, false], [0, 0, 0], 3, 1, false)\n"
     ]
    },
    {
     "ename": "UndefVarError",
     "evalue": "UndefVarError: policy not defined",
     "output_type": "error",
     "traceback": [
      "UndefVarError: policy not defined",
      "",
      "Stacktrace:",
      " [1] top-level scope at In[21]:5"
     ]
    }
   ],
   "source": [
    "mdp = evMDP()\n",
    "rng = MersenneTwister(1)\n",
    "startstate = POMDPs.initialstate(mdp, rng)\n",
    "println(startstate)\n",
    "history = simulate(HistoryRecorder(max_steps=100), mdp, policy, startstate)\n",
    "\n",
    "\n",
    "# look at what happened\n",
    "for (s, a, r) in eachstep(history, \"(s, a, r)\")\n",
    "    println(\"State was $s,\")\n",
    "    println(\"Reward was $r,\")\n",
    "    println(\"action $a was taken,\")\n",
    "end"
   ]
  }
 ],
 "metadata": {
  "kernelspec": {
   "display_name": "Julia 1.0.0",
   "language": "julia",
   "name": "julia-1.0"
  },
  "language_info": {
   "file_extension": ".jl",
   "mimetype": "application/julia",
   "name": "julia",
   "version": "1.0.0"
  }
 },
 "nbformat": 4,
 "nbformat_minor": 2
}
